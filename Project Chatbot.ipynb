{
 "cells": [
  {
   "cell_type": "markdown",
   "metadata": {
    "id": "-mBr8VhzHtw5"
   },
   "source": [
    "#### Package Imports: [add in order of use as needed]"
   ]
  },
  {
   "cell_type": "code",
   "execution_count": 41,
   "metadata": {
    "executionInfo": {
     "elapsed": 418,
     "status": "ok",
     "timestamp": 1614110575870,
     "user": {
      "displayName": "Dustin Ballentine",
      "photoUrl": "https://lh3.googleusercontent.com/a-/AOh14Ghq_5bawQZsfdFi9j3t7lQFe4wceuFGtMLnLlQXKA=s64",
      "userId": "00253427842532344869"
     },
     "user_tz": 300
    },
    "id": "QollkLcMHtxB"
   },
   "outputs": [],
   "source": [
    "import pandas as pd\n",
    "import numpy as np\n",
    "from sklearn.impute import SimpleImputer\n",
    "from sklearn.preprocessing import LabelEncoder, OneHotEncoder \n",
    "# used for encoding categorical data\n",
    "from sklearn.model_selection import train_test_split \n",
    "# used for splitting training and testing data\n",
    "from sklearn.preprocessing import StandardScaler \n",
    "# used for feature scaling\n",
    "from sklearn.preprocessing import MinMaxScaler \n",
    "import urllib\n",
    "import shutil\n",
    "import tempfile\n",
    "import matplotlib.pyplot as plt\n",
    "%matplotlib inline\n",
    "import nltk\n",
    "import string\n",
    "import re"
   ]
  },
  {
   "cell_type": "code",
   "execution_count": 42,
   "metadata": {},
   "outputs": [],
   "source": [
    "# EN_Vocab = pd.read_html('https://nlp.stanford.edu/projects/nmt/data/wmt14.en-de/vocab.50K.en')\n",
    "en_data_vocab = pd.read_csv('Data/EN50k_Vocab.csv')\n",
    "cs_data_vocab = pd.read_csv('Data/CS50k_Vocab.csv')\n",
    "de_data_vocab = pd.read_csv('Data/DE50k_Vocab.csv')\n",
    "czechTD = pd.read_csv('Data/czechTD.csv')\n",
    "englishTD = pd.read_csv('Data/englishTD.csv')"
   ]
  },
  {
   "cell_type": "code",
   "execution_count": 43,
   "metadata": {},
   "outputs": [
    {
     "data": {
      "text/html": [
       "<div>\n",
       "<style scoped>\n",
       "    .dataframe tbody tr th:only-of-type {\n",
       "        vertical-align: middle;\n",
       "    }\n",
       "\n",
       "    .dataframe tbody tr th {\n",
       "        vertical-align: top;\n",
       "    }\n",
       "\n",
       "    .dataframe thead th {\n",
       "        text-align: right;\n",
       "    }\n",
       "</style>\n",
       "<table border=\"1\" class=\"dataframe\">\n",
       "  <thead>\n",
       "    <tr style=\"text-align: right;\">\n",
       "      <th></th>\n",
       "      <th>Text</th>\n",
       "    </tr>\n",
       "  </thead>\n",
       "  <tbody>\n",
       "    <tr>\n",
       "      <th>0</th>\n",
       "      <td>Následný postup na základě usnesení Parlamentu...</td>\n",
       "    </tr>\n",
       "    <tr>\n",
       "      <th>1</th>\n",
       "      <td>Předložení dokumentů: viz zápis</td>\n",
       "    </tr>\n",
       "    <tr>\n",
       "      <th>2</th>\n",
       "      <td>Písemná prohlášení (článek 116 jednacího řádu)...</td>\n",
       "    </tr>\n",
       "    <tr>\n",
       "      <th>3</th>\n",
       "      <td>Texty smluv dodané Radou: viz zápis</td>\n",
       "    </tr>\n",
       "    <tr>\n",
       "      <th>4</th>\n",
       "      <td>Složení Parlamentu: viz zápis</td>\n",
       "    </tr>\n",
       "  </tbody>\n",
       "</table>\n",
       "</div>"
      ],
      "text/plain": [
       "                                                Text\n",
       "0  Následný postup na základě usnesení Parlamentu...\n",
       "1                    Předložení dokumentů: viz zápis\n",
       "2  Písemná prohlášení (článek 116 jednacího řádu)...\n",
       "3                Texty smluv dodané Radou: viz zápis\n",
       "4                      Složení Parlamentu: viz zápis"
      ]
     },
     "execution_count": 43,
     "metadata": {},
     "output_type": "execute_result"
    }
   ],
   "source": [
    "# en_data_vocab.head()\n",
    "czechTD.head()\n",
    "# englishTD.head()"
   ]
  },
  {
   "cell_type": "markdown",
   "metadata": {
    "id": "lSRrLX6CHtxC"
   },
   "source": [
    "# Part 1: Preprocessing"
   ]
  },
  {
   "cell_type": "markdown",
   "metadata": {
    "id": "06WHOcHKNd3K"
   },
   "source": [
    "## Read-in the Files [Dylan | 25-Feb]"
   ]
  },
  {
   "cell_type": "code",
   "execution_count": 48,
   "metadata": {},
   "outputs": [
    {
     "data": {
      "text/html": [
       "<div>\n",
       "<style scoped>\n",
       "    .dataframe tbody tr th:only-of-type {\n",
       "        vertical-align: middle;\n",
       "    }\n",
       "\n",
       "    .dataframe tbody tr th {\n",
       "        vertical-align: top;\n",
       "    }\n",
       "\n",
       "    .dataframe thead th {\n",
       "        text-align: right;\n",
       "    }\n",
       "</style>\n",
       "<table border=\"1\" class=\"dataframe\">\n",
       "  <thead>\n",
       "    <tr style=\"text-align: right;\">\n",
       "      <th></th>\n",
       "      <th>EN_Vocab</th>\n",
       "    </tr>\n",
       "  </thead>\n",
       "  <tbody>\n",
       "    <tr>\n",
       "      <th>count</th>\n",
       "      <td>49997</td>\n",
       "    </tr>\n",
       "    <tr>\n",
       "      <th>unique</th>\n",
       "      <td>49843</td>\n",
       "    </tr>\n",
       "    <tr>\n",
       "      <th>top</th>\n",
       "      <td>#NAME?</td>\n",
       "    </tr>\n",
       "    <tr>\n",
       "      <th>freq</th>\n",
       "      <td>12</td>\n",
       "    </tr>\n",
       "  </tbody>\n",
       "</table>\n",
       "</div>"
      ],
      "text/plain": [
       "       EN_Vocab\n",
       "count     49997\n",
       "unique    49843\n",
       "top      #NAME?\n",
       "freq         12"
      ]
     },
     "execution_count": 48,
     "metadata": {},
     "output_type": "execute_result"
    }
   ],
   "source": [
    "en_data_vocab.describe()\n"
   ]
  },
  {
   "cell_type": "code",
   "execution_count": 49,
   "metadata": {},
   "outputs": [
    {
     "data": {
      "text/html": [
       "<div>\n",
       "<style scoped>\n",
       "    .dataframe tbody tr th:only-of-type {\n",
       "        vertical-align: middle;\n",
       "    }\n",
       "\n",
       "    .dataframe tbody tr th {\n",
       "        vertical-align: top;\n",
       "    }\n",
       "\n",
       "    .dataframe thead th {\n",
       "        text-align: right;\n",
       "    }\n",
       "</style>\n",
       "<table border=\"1\" class=\"dataframe\">\n",
       "  <thead>\n",
       "    <tr style=\"text-align: right;\">\n",
       "      <th></th>\n",
       "      <th>CS_Vocab</th>\n",
       "    </tr>\n",
       "  </thead>\n",
       "  <tbody>\n",
       "    <tr>\n",
       "      <th>count</th>\n",
       "      <td>49998</td>\n",
       "    </tr>\n",
       "    <tr>\n",
       "      <th>unique</th>\n",
       "      <td>49928</td>\n",
       "    </tr>\n",
       "    <tr>\n",
       "      <th>top</th>\n",
       "      <td>1</td>\n",
       "    </tr>\n",
       "    <tr>\n",
       "      <th>freq</th>\n",
       "      <td>6</td>\n",
       "    </tr>\n",
       "  </tbody>\n",
       "</table>\n",
       "</div>"
      ],
      "text/plain": [
       "       CS_Vocab\n",
       "count     49998\n",
       "unique    49928\n",
       "top           1\n",
       "freq          6"
      ]
     },
     "execution_count": 49,
     "metadata": {},
     "output_type": "execute_result"
    }
   ],
   "source": [
    "cs_data_vocab.describe()"
   ]
  },
  {
   "cell_type": "code",
   "execution_count": 50,
   "metadata": {},
   "outputs": [
    {
     "data": {
      "text/html": [
       "<div>\n",
       "<style scoped>\n",
       "    .dataframe tbody tr th:only-of-type {\n",
       "        vertical-align: middle;\n",
       "    }\n",
       "\n",
       "    .dataframe tbody tr th {\n",
       "        vertical-align: top;\n",
       "    }\n",
       "\n",
       "    .dataframe thead th {\n",
       "        text-align: right;\n",
       "    }\n",
       "</style>\n",
       "<table border=\"1\" class=\"dataframe\">\n",
       "  <thead>\n",
       "    <tr style=\"text-align: right;\">\n",
       "      <th></th>\n",
       "      <th>DE_Vocab</th>\n",
       "    </tr>\n",
       "  </thead>\n",
       "  <tbody>\n",
       "    <tr>\n",
       "      <th>count</th>\n",
       "      <td>49999</td>\n",
       "    </tr>\n",
       "    <tr>\n",
       "      <th>unique</th>\n",
       "      <td>49829</td>\n",
       "    </tr>\n",
       "    <tr>\n",
       "      <th>top</th>\n",
       "      <td>#NAME?</td>\n",
       "    </tr>\n",
       "    <tr>\n",
       "      <th>freq</th>\n",
       "      <td>27</td>\n",
       "    </tr>\n",
       "  </tbody>\n",
       "</table>\n",
       "</div>"
      ],
      "text/plain": [
       "       DE_Vocab\n",
       "count     49999\n",
       "unique    49829\n",
       "top      #NAME?\n",
       "freq         27"
      ]
     },
     "execution_count": 50,
     "metadata": {},
     "output_type": "execute_result"
    }
   ],
   "source": [
    "de_data_vocab.describe()"
   ]
  },
  {
   "cell_type": "code",
   "execution_count": 51,
   "metadata": {},
   "outputs": [],
   "source": [
    "sc = StandardScaler()\n",
    "x= sc.fit_transform(x)"
   ]
  },
  {
   "cell_type": "code",
   "execution_count": null,
   "metadata": {},
   "outputs": [],
   "source": []
  },
  {
   "cell_type": "code",
   "execution_count": null,
   "metadata": {},
   "outputs": [],
   "source": []
  },
  {
   "cell_type": "code",
   "execution_count": 8,
   "metadata": {
    "executionInfo": {
     "elapsed": 2915,
     "status": "ok",
     "timestamp": 1614106873262,
     "user": {
      "displayName": "Dustin Ballentine",
      "photoUrl": "https://lh3.googleusercontent.com/a-/AOh14Ghq_5bawQZsfdFi9j3t7lQFe4wceuFGtMLnLlQXKA=s64",
      "userId": "00253427842532344869"
     },
     "user_tz": 300
    },
    "id": "I8ABMLhmNdCO"
   },
   "outputs": [],
   "source": [
    "# # English-German exists as 2 separate html files plus 2 more containing top 50,000 words \n",
    "# with urllib.request.urlopen('https://nlp.stanford.edu/projects/nmt/data/wmt14.en-de/vocab.50K.en') as response:\n",
    "#   en_top50k = response.read()"
   ]
  },
  {
   "cell_type": "code",
   "execution_count": 9,
   "metadata": {
    "id": "TCpynXOtHtxD"
   },
   "outputs": [],
   "source": [
    "# # or use BeautifulSoup ?\n",
    "# import requests\n",
    "# from bs4 import BeautifulSoup\n",
    "# page = requests.get('https://nlp.stanford.edu/projects/nmt/data/wmt14.en-de/vocab.50K.en')\n",
    "# soup = BeautifulSoup(page.content, 'html.parser')\n",
    "# #etc..."
   ]
  },
  {
   "cell_type": "code",
   "execution_count": 10,
   "metadata": {
    "colab": {
     "base_uri": "https://localhost:8080/",
     "height": 459
    },
    "executionInfo": {
     "elapsed": 470,
     "status": "error",
     "timestamp": 1614112079233,
     "user": {
      "displayName": "Dustin Ballentine",
      "photoUrl": "https://lh3.googleusercontent.com/a-/AOh14Ghq_5bawQZsfdFi9j3t7lQFe4wceuFGtMLnLlQXKA=s64",
      "userId": "00253427842532344869"
     },
     "user_tz": 300
    },
    "id": "YVULlx2RXI8-",
    "outputId": "7e79a522-1b93-4335-d69c-c224f32fc2c5"
   },
   "outputs": [],
   "source": [
    "# # read in Spanish-English tgz file\n",
    "# import tarfile\n",
    "# filename = 'https://drive.google.com/drive/u/0/folders/1IGjVGO2k__0LveobjHejz_QK-O2udqXM/es-en.tgz'\n",
    "# tf = tarfile.open(filename)\n",
    "# tf.extractall()"
   ]
  },
  {
   "cell_type": "markdown",
   "metadata": {
    "id": "mqWQAQxsVLzR"
   },
   "source": [
    "## Clean up inconsistencies (apostrophes, quotes, numbers) [Dustin | 26-Feb]"
   ]
  },
  {
   "cell_type": "markdown",
   "metadata": {
    "id": "LdkjcRiQHtxE"
   },
   "source": [
    "# Part 2: Exploratory Data Visualization"
   ]
  },
  {
   "cell_type": "code",
   "execution_count": null,
   "metadata": {
    "id": "KPVP2z5aaLW1"
   },
   "outputs": [],
   "source": [
    "## Question: Are there specific *relevant* features we should take a look at \n",
    "## that might help us with the actual translation or with evaluation?"
   ]
  },
  {
   "cell_type": "markdown",
   "metadata": {
    "id": "GzOiGZ9-Ynsm"
   },
   "source": [
    "### Step 1: Sentence Length observations and histograms"
   ]
  },
  {
   "cell_type": "markdown",
   "metadata": {
    "id": "ft5YYu5QZbKR"
   },
   "source": [
    "### Step 2: Use CountVectorizer to observe highest-frequency uni-, bi-, and tri-grams (after removing stop words)"
   ]
  },
  {
   "cell_type": "markdown",
   "metadata": {
    "id": "KIeb32pYZE-e"
   },
   "source": [
    "### Step 3: Wordmaps based on frequency"
   ]
  },
  {
   "cell_type": "markdown",
   "metadata": {
    "id": "K3j7h8L7Ywy3"
   },
   "source": [
    "### Step 4: Apply POS tagger to compare distributions and proximity of POSs"
   ]
  },
  {
   "cell_type": "markdown",
   "metadata": {
    "id": "_I3_UZnAa_co"
   },
   "source": [
    "### Step 5: Assess sentiment polarity with "
   ]
  },
  {
   "cell_type": "markdown",
   "metadata": {
    "id": "Yc4OT6brcLnk"
   },
   "source": [
    "### Step 6: Model topics using LSA and TF-IDF scores."
   ]
  }
 ],
 "metadata": {
  "colab": {
   "name": "Project Chatbot.ipynb",
   "provenance": [],
   "toc_visible": true
  },
  "kernelspec": {
   "display_name": "Python 3",
   "language": "python",
   "name": "python3"
  },
  "language_info": {
   "codemirror_mode": {
    "name": "ipython",
    "version": 3
   },
   "file_extension": ".py",
   "mimetype": "text/x-python",
   "name": "python",
   "nbconvert_exporter": "python",
   "pygments_lexer": "ipython3",
   "version": "3.7.6"
  }
 },
 "nbformat": 4,
 "nbformat_minor": 1
}
